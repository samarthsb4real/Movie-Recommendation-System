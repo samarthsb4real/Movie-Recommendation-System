{
 "cells": [
  {
   "cell_type": "code",
   "execution_count": 3,
   "id": "3b35f5dc-0802-4136-b922-a2a785d01a45",
   "metadata": {},
   "outputs": [],
   "source": [
    "import numpy as np\n",
    "import pandas as pd\n",
    "from sklearn.feature_extraction.text import CountVectorizer\n",
    "from sklearn.metrics.pairwise import cosine_similarity\n",
    "import pickle"
   ]
  },
  {
   "cell_type": "code",
   "execution_count": 4,
   "id": "5b1e886b-31ac-4b01-99f0-69be4f5d8ad7",
   "metadata": {},
   "outputs": [
    {
     "data": {
      "text/html": [
       "<div>\n",
       "<style scoped>\n",
       "    .dataframe tbody tr th:only-of-type {\n",
       "        vertical-align: middle;\n",
       "    }\n",
       "\n",
       "    .dataframe tbody tr th {\n",
       "        vertical-align: top;\n",
       "    }\n",
       "\n",
       "    .dataframe thead th {\n",
       "        text-align: right;\n",
       "    }\n",
       "</style>\n",
       "<table border=\"1\" class=\"dataframe\">\n",
       "  <thead>\n",
       "    <tr style=\"text-align: right;\">\n",
       "      <th></th>\n",
       "      <th>id</th>\n",
       "      <th>title</th>\n",
       "      <th>tags</th>\n",
       "    </tr>\n",
       "  </thead>\n",
       "  <tbody>\n",
       "    <tr>\n",
       "      <th>0</th>\n",
       "      <td>19995</td>\n",
       "      <td>Avatar</td>\n",
       "      <td>samworthington zoesaldana sigourneyweav stephe...</td>\n",
       "    </tr>\n",
       "    <tr>\n",
       "      <th>1</th>\n",
       "      <td>285</td>\n",
       "      <td>Pirates of the Caribbean: At World's End</td>\n",
       "      <td>johnnydepp orlandobloom keiraknightley stellan...</td>\n",
       "    </tr>\n",
       "    <tr>\n",
       "      <th>2</th>\n",
       "      <td>206647</td>\n",
       "      <td>Spectre</td>\n",
       "      <td>danielcraig christophwaltz léaseydoux ralphfie...</td>\n",
       "    </tr>\n",
       "    <tr>\n",
       "      <th>3</th>\n",
       "      <td>49026</td>\n",
       "      <td>The Dark Knight Rises</td>\n",
       "      <td>christianbal michaelcain garyoldman annehathaw...</td>\n",
       "    </tr>\n",
       "    <tr>\n",
       "      <th>4</th>\n",
       "      <td>49529</td>\n",
       "      <td>John Carter</td>\n",
       "      <td>taylorkitsch lynncollin samanthamorton willemd...</td>\n",
       "    </tr>\n",
       "    <tr>\n",
       "      <th>...</th>\n",
       "      <td>...</td>\n",
       "      <td>...</td>\n",
       "      <td>...</td>\n",
       "    </tr>\n",
       "    <tr>\n",
       "      <th>4801</th>\n",
       "      <td>9367</td>\n",
       "      <td>El Mariachi</td>\n",
       "      <td>carlosgallardo jaimedehoyo petermarquardt rein...</td>\n",
       "    </tr>\n",
       "    <tr>\n",
       "      <th>4802</th>\n",
       "      <td>72766</td>\n",
       "      <td>Newlyweds</td>\n",
       "      <td>edwardburn kerrybishé marshadietlein caitlinfi...</td>\n",
       "    </tr>\n",
       "    <tr>\n",
       "      <th>4803</th>\n",
       "      <td>231617</td>\n",
       "      <td>Signed, Sealed, Delivered</td>\n",
       "      <td>ericmabiu kristinbooth crystallow geoffgustafs...</td>\n",
       "    </tr>\n",
       "    <tr>\n",
       "      <th>4804</th>\n",
       "      <td>126186</td>\n",
       "      <td>Shanghai Calling</td>\n",
       "      <td>danielhenney elizacoup billpaxton alanruck dan...</td>\n",
       "    </tr>\n",
       "    <tr>\n",
       "      <th>4805</th>\n",
       "      <td>25975</td>\n",
       "      <td>My Date with Drew</td>\n",
       "      <td>drewbarrymor brianherzling coreyfeldman ericro...</td>\n",
       "    </tr>\n",
       "  </tbody>\n",
       "</table>\n",
       "<p>4806 rows × 3 columns</p>\n",
       "</div>"
      ],
      "text/plain": [
       "          id                                     title  \\\n",
       "0      19995                                    Avatar   \n",
       "1        285  Pirates of the Caribbean: At World's End   \n",
       "2     206647                                   Spectre   \n",
       "3      49026                     The Dark Knight Rises   \n",
       "4      49529                               John Carter   \n",
       "...      ...                                       ...   \n",
       "4801    9367                               El Mariachi   \n",
       "4802   72766                                 Newlyweds   \n",
       "4803  231617                 Signed, Sealed, Delivered   \n",
       "4804  126186                          Shanghai Calling   \n",
       "4805   25975                         My Date with Drew   \n",
       "\n",
       "                                                   tags  \n",
       "0     samworthington zoesaldana sigourneyweav stephe...  \n",
       "1     johnnydepp orlandobloom keiraknightley stellan...  \n",
       "2     danielcraig christophwaltz léaseydoux ralphfie...  \n",
       "3     christianbal michaelcain garyoldman annehathaw...  \n",
       "4     taylorkitsch lynncollin samanthamorton willemd...  \n",
       "...                                                 ...  \n",
       "4801  carlosgallardo jaimedehoyo petermarquardt rein...  \n",
       "4802  edwardburn kerrybishé marshadietlein caitlinfi...  \n",
       "4803  ericmabiu kristinbooth crystallow geoffgustafs...  \n",
       "4804  danielhenney elizacoup billpaxton alanruck dan...  \n",
       "4805  drewbarrymor brianherzling coreyfeldman ericro...  \n",
       "\n",
       "[4806 rows x 3 columns]"
      ]
     },
     "execution_count": 4,
     "metadata": {},
     "output_type": "execute_result"
    }
   ],
   "source": [
    "dataset= pd.read_csv('cleaned.csv')\n",
    "cv = CountVectorizer(max_features=5000, stop_words='english')\n",
    "\n",
    "dataset"
   ]
  },
  {
   "cell_type": "code",
   "execution_count": 31,
   "id": "44467207-91ca-474c-99a6-8ea718768185",
   "metadata": {},
   "outputs": [
    {
     "data": {
      "text/plain": [
       "\"johnnydepp orlandobloom keiraknightley stellanskarsgård dariuszwolski goreverbinski tedelliott terryrossio stephene.rivkin craigwood hanszimm ocean drugabus exoticisland eastindiatradingcompani loveofone'slif traitor shipwreck strongwoman ship allianc calypso afterlif fighter pirat swashbuckl aftercreditssting adventur fantasi action captain barbossa, long believ to be dead, ha come back to life and is head to the edg of the earth with will turner and elizabeth swann. but noth is quit as it seems.\""
      ]
     },
     "execution_count": 31,
     "metadata": {},
     "output_type": "execute_result"
    }
   ],
   "source": [
    "dataset['tags'][1]"
   ]
  },
  {
   "cell_type": "code",
   "execution_count": 5,
   "id": "eceaacfd-d1b5-4cc2-ae67-42999c6a8255",
   "metadata": {},
   "outputs": [
    {
     "name": "stdout",
     "output_type": "stream",
     "text": [
      "<class 'pandas.core.frame.DataFrame'>\n",
      "RangeIndex: 4806 entries, 0 to 4805\n",
      "Data columns (total 3 columns):\n",
      " #   Column  Non-Null Count  Dtype \n",
      "---  ------  --------------  ----- \n",
      " 0   id      4806 non-null   int64 \n",
      " 1   title   4806 non-null   object\n",
      " 2   tags    4806 non-null   object\n",
      "dtypes: int64(1), object(2)\n",
      "memory usage: 112.8+ KB\n"
     ]
    }
   ],
   "source": [
    "dataset.info()"
   ]
  },
  {
   "cell_type": "code",
   "execution_count": 6,
   "id": "7cb8443f-c95b-4511-b1ed-1ff0f34db39f",
   "metadata": {},
   "outputs": [],
   "source": [
    "vectors = cv.fit_transform(dataset['tags']).toarray()"
   ]
  },
  {
   "cell_type": "code",
   "execution_count": 32,
   "id": "b6ed9a67-d484-4e57-a975-10cb218ef64a",
   "metadata": {},
   "outputs": [
    {
     "data": {
      "text/plain": [
       "array(['000', '007', '10', ..., 'zone', 'zoo', 'zooeydeschanel'],\n",
       "      dtype=object)"
      ]
     },
     "execution_count": 32,
     "metadata": {},
     "output_type": "execute_result"
    }
   ],
   "source": [
    "cv.get_feature_names_out()"
   ]
  },
  {
   "cell_type": "code",
   "execution_count": 44,
   "id": "6ef80e20-e9da-40c9-8d4a-a191e0f79f66",
   "metadata": {},
   "outputs": [
    {
     "data": {
      "text/plain": [
       "'Pirates of the Caribbean: The Curse of the Black Pearl'"
      ]
     },
     "execution_count": 44,
     "metadata": {},
     "output_type": "execute_result"
    }
   ],
   "source": [
    "dataset['title'][199]"
   ]
  },
  {
   "cell_type": "code",
   "execution_count": 38,
   "id": "1500405e-2e83-4d38-b15c-615120c663b3",
   "metadata": {},
   "outputs": [],
   "source": [
    "similarity = cosine_similarity(vectors)"
   ]
  },
  {
   "cell_type": "code",
   "execution_count": 42,
   "id": "948ed348-5bfd-45b3-8447-da7651eb7acc",
   "metadata": {
    "scrolled": true
   },
   "outputs": [
    {
     "data": {
      "text/plain": [
       "[(12, 0.5205792062953537),\n",
       " (199, 0.35992802159280257),\n",
       " (17, 0.2965506497608511),\n",
       " (1192, 0.1874085142663273),\n",
       " (3570, 0.1874085142663273),\n",
       " (216, 0.18376916754950667)]"
      ]
     },
     "execution_count": 42,
     "metadata": {},
     "output_type": "execute_result"
    }
   ],
   "source": [
    "#the similarity count of one movie with other movies of the dataset \n",
    "sorted(list(enumerate(similarity[1])), reverse=True, key= lambda x:x[1])[1:7]"
   ]
  },
  {
   "cell_type": "code",
   "execution_count": 45,
   "id": "89f60b4f-3d9b-4174-ade8-2cc6db892519",
   "metadata": {},
   "outputs": [
    {
     "data": {
      "text/plain": [
       "'J. Edgar'"
      ]
     },
     "execution_count": 45,
     "metadata": {},
     "output_type": "execute_result"
    }
   ],
   "source": [
    "dataset['title'][1411]"
   ]
  },
  {
   "cell_type": "code",
   "execution_count": 47,
   "id": "e5b9d987-9fa0-4483-a4ea-468743394eed",
   "metadata": {},
   "outputs": [],
   "source": [
    "def recommend(movie):\n",
    "    movie_index = dataset[dataset['title'] == movie].index[0]\n",
    "    distances = similarity[movie_index]\n",
    "    movies_list = sorted(list(enumerate(distances)),reverse=True, key=lambda x:x[1])[1:6]\n",
    "\n",
    "    for i in movies_list:\n",
    "        print(dataset.iloc[i[0]].title)   "
   ]
  },
  {
   "cell_type": "code",
   "execution_count": 48,
   "id": "0b34f59a-de19-4be9-b1eb-5648987f611b",
   "metadata": {},
   "outputs": [
    {
     "name": "stdout",
     "output_type": "stream",
     "text": [
      "Ant-Man\n",
      "Iron Man 2\n",
      "MacGruber\n",
      "The Animal\n",
      "The Amazing Spider-Man\n"
     ]
    }
   ],
   "source": [
    "recommend('Deadpool')"
   ]
  },
  {
   "cell_type": "code",
   "execution_count": 14,
   "id": "c8f7c360-db5a-4c7a-9d80-babd2ec61752",
   "metadata": {},
   "outputs": [],
   "source": [
    "pickle.dump(dataset,open('movies.pkl','wb'))"
   ]
  },
  {
   "cell_type": "code",
   "execution_count": 15,
   "id": "9609cbba-3ce5-4f3a-908f-15f6f69be4a5",
   "metadata": {},
   "outputs": [],
   "source": [
    "pickle.dump(similarity,open('similarity.pkl','wb'))"
   ]
  }
 ],
 "metadata": {
  "kernelspec": {
   "display_name": "Python 3 (ipykernel)",
   "language": "python",
   "name": "python3"
  },
  "language_info": {
   "codemirror_mode": {
    "name": "ipython",
    "version": 3
   },
   "file_extension": ".py",
   "mimetype": "text/x-python",
   "name": "python",
   "nbconvert_exporter": "python",
   "pygments_lexer": "ipython3",
   "version": "3.12.1"
  }
 },
 "nbformat": 4,
 "nbformat_minor": 5
}
